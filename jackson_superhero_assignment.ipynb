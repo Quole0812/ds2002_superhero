{
  "cells": [
    {
      "cell_type": "markdown",
      "metadata": {
        "id": "view-in-github"
      },
      "source": [
        "<a href=\"https://colab.research.google.com/github/fourfeatherz/DS2002S25/blob/main/python/superhero_assignment.ipynb\" target=\"_parent\"><img src=\"https://colab.research.google.com/assets/colab-badge.svg\" alt=\"Open In Colab\"/></a>"
      ],
      "id": "view-in-github"
    },
    {
      "cell_type": "markdown",
      "id": "5fa8dcf6",
      "metadata": {
        "id": "5fa8dcf6"
      },
      "source": [
        "# Superhero Database Assignment (SQLite & Google Colab)\n",
        "\n",
        "## Objective\n",
        "In this assignment, you will design and implement a **Superhero Database** using SQLite in Google Colab. This database will store superheroes, villains, and their battles. You will write SQL queries to analyze battle outcomes and relationships between heroes and villains.\n",
        "\n",
        "### Group Size:\n",
        "- 2 to 3 students per group.\n",
        "\n",
        "### Tools Required:\n",
        "- **Google Colab**\n",
        "- **SQLite (built into Python)**\n",
        "- **CSV files (provided for import)**"
      ]
    },
    {
      "cell_type": "markdown",
      "id": "5535e625",
      "metadata": {
        "id": "5535e625"
      },
      "source": [
        "## Step 1: Setting Up Your SQLite Database\n",
        "\n",
        "### Tasks:\n",
        "1. Initialize SQLite in Google Colab.\n",
        "2. Create a database named `superhero_db.sqlite`.\n",
        "3. Define the database schema, ensuring it includes the following tables:\n",
        "   - `heroes`: Stores superhero names, powers, and teams.\n",
        "   - `villains`: Stores villains and their evil plans.\n",
        "   - `battles`: Tracks battles between heroes and villains, including the outcome.\n",
        "4. Implement primary keys and foreign keys where appropriate.\n",
        "\n",
        "✅ **Checkpoint:** Ensure that the database and tables have been successfully created."
      ]
    },
    {
      "cell_type": "code",
      "source": [
        "import sqlite3\n",
        "\n",
        "#set up the connection to the database\n",
        "conn = sqlite3.connect(':memory:')\n",
        "cursor = conn.cursor()\n",
        "\n",
        "#our crete table statement\n",
        "\n",
        "tablestatement = '''\n",
        "DROP TABLE IF EXISTS heroes;\n",
        "DROP TABLE IF EXISTS villains;\n",
        "DROP TABLE IF EXISTS battles;\n",
        "\n",
        "CREATE TABLE heroes (\n",
        "  id INTEGER PRIMARY KEY AUTOINCREMENT,\n",
        "  name VARCHAR(50) NOT NULL,\n",
        "  power VARCHAR(50),\n",
        "  team VARCHAR(50)\n",
        ");\n",
        "\n",
        "CREATE TABLE villains (\n",
        "  id INTEGER PRIMARY KEY AUTOINCREMENT,\n",
        "  name VARCHAR(50) NOT NULL,\n",
        "  evil_plan VARCHAR(50)\n",
        ");\n",
        "\n",
        "CREATE TABLE battles (\n",
        "  id INTEGER PRIMARY KEY AUTOINCREMENT,\n",
        "  hero_id INTEGER,\n",
        "  villain_id INTEGER,\n",
        "  outcome VARCHAR(50)\n",
        "\n",
        ");\n",
        "'''\n",
        "\n",
        "#execute\n",
        "cursor.executescript(tablestatement)\n",
        "conn.commit()\n",
        "print(\"we got database\")\n",
        "\n"
      ],
      "metadata": {
        "colab": {
          "base_uri": "https://localhost:8080/"
        },
        "id": "egcNesD8INbg",
        "outputId": "a8db4297-21d4-429e-9f46-bb6cf6069f27"
      },
      "id": "egcNesD8INbg",
      "execution_count": 1,
      "outputs": [
        {
          "output_type": "stream",
          "name": "stdout",
          "text": [
            "we got database\n"
          ]
        }
      ]
    },
    {
      "cell_type": "markdown",
      "id": "154b3c3a",
      "metadata": {
        "id": "154b3c3a"
      },
      "source": [
        "## Step 2: Import Data from CSV Files\n",
        "\n",
        "### Tasks:\n",
        "1. Download the provided CSV files.\n",
        "2. Upload them to Google Colab.\n",
        "3. Write a script to import data from these files into the appropriate tables.\n",
        "4. Verify that the data has been successfully inserted.\n",
        "\n",
        "✅ **Checkpoint:** Ensure that each table contains the expected data from the CSV files."
      ]
    },
    {
      "cell_type": "code",
      "source": [
        "import pandas as pd\n",
        "import numpy as np\n",
        "heroes_df = pd.read_csv(\"heroes.csv\")\n",
        "heroes_data = heroes_df.values.tolist()\n",
        "villains_df = pd.read_csv(\"villains.csv\")\n",
        "villians_data = villains_df.values.tolist()\n",
        "battles_df = pd.read_csv(\"battles.csv\")\n",
        "battles_data = battles_df.values.tolist()\n",
        "\n",
        "\n",
        "\n",
        "cursor.executemany('''\n",
        "    INSERT INTO heroes (id, name, power, team)\n",
        "    VALUES (?, ?, ?, ?)\n",
        "''', heroes_data)\n",
        "\n",
        "\n",
        "cursor.executemany('''\n",
        "    INSERT INTO villains (id, name, evil_plan)\n",
        "    VALUES (?, ?, ?)\n",
        "''', villians_data)\n",
        "\n",
        "\n",
        "cursor.executemany('''\n",
        "    INSERT INTO battles (id, hero_id, villain_id, outcome)\n",
        "    VALUES (?, ?, ?, ?)\n",
        "''', battles_data)\n",
        "\n",
        "conn.commit()"
      ],
      "metadata": {
        "id": "O0KM2b7JQN2Q"
      },
      "id": "O0KM2b7JQN2Q",
      "execution_count": 2,
      "outputs": []
    },
    {
      "cell_type": "markdown",
      "id": "33548d9f",
      "metadata": {
        "id": "33548d9f"
      },
      "source": [
        "## Step 3: Querying the Database\n",
        "\n",
        "### Tasks:\n",
        "Write SQL queries to answer the following:\n",
        "1. Retrieve all superheroes and their powers.\n",
        "2. Find all battles where the hero won.\n",
        "3. List all villains and their evil plans.\n",
        "4. Determine which superhero has fought the most battles.\n",
        "\n",
        "✅ **Checkpoint:** Ensure that all queries return meaningful results from the database."
      ]
    },
    {
      "cell_type": "code",
      "source": [
        "cursor.execute(\"SELECT name, power FROM heroes\")\n",
        "rows = cursor.fetchall()\n",
        "\n",
        "print(\"All heroes and power data:\")\n",
        "for row in rows:\n",
        "    print(row)"
      ],
      "metadata": {
        "id": "bnEqY0XuZjGR",
        "colab": {
          "base_uri": "https://localhost:8080/"
        },
        "outputId": "fbb0f7e1-7d04-452a-d42b-36579f40f202"
      },
      "id": "bnEqY0XuZjGR",
      "execution_count": 4,
      "outputs": [
        {
          "output_type": "stream",
          "name": "stdout",
          "text": [
            "All heroes and power data:\n",
            "('Spider-Man', 'Web-slinging')\n",
            "('Iron Man', 'Powered Armor')\n",
            "('Batman', 'Genius Detective')\n",
            "('Superman', 'Super Strength')\n",
            "('Thor', 'God of Thunder')\n",
            "('Wonder Woman', 'Amazonian Strength')\n",
            "('Black Panther', 'Enhanced Agility')\n",
            "('The Flash', 'Super Speed')\n",
            "('Hulk', 'Super Strength')\n",
            "('Doctor Strange', 'Mystic Arts')\n"
          ]
        }
      ]
    },
    {
      "cell_type": "code",
      "source": [
        "cursor.execute(\"SELECT * FROM battles WHERE outcome = 'Hero Wins'\")\n",
        "rows = cursor.fetchall()\n",
        "\n",
        "print(\"All heroes battles won:\")\n",
        "for row in rows:\n",
        "    print(row)"
      ],
      "metadata": {
        "colab": {
          "base_uri": "https://localhost:8080/"
        },
        "id": "1MeT-w2_ERtB",
        "outputId": "5ed2b9d5-ac6a-4762-a51a-276f4aa8f2b6"
      },
      "id": "1MeT-w2_ERtB",
      "execution_count": 6,
      "outputs": [
        {
          "output_type": "stream",
          "name": "stdout",
          "text": [
            "All heroes battles won:\n",
            "(2, 9, 3, 'Hero Wins')\n",
            "(5, 1, 7, 'Hero Wins')\n",
            "(7, 9, 8, 'Hero Wins')\n",
            "(8, 3, 2, 'Hero Wins')\n",
            "(9, 7, 5, 'Hero Wins')\n",
            "(13, 8, 9, 'Hero Wins')\n",
            "(20, 3, 4, 'Hero Wins')\n",
            "(29, 3, 5, 'Hero Wins')\n",
            "(30, 5, 5, 'Hero Wins')\n"
          ]
        }
      ]
    },
    {
      "cell_type": "code",
      "source": [
        "cursor.execute(\"SELECT name, evil_plan FROM villains\")\n",
        "rows = cursor.fetchall()\n",
        "\n",
        "print(\"All villains and plan data:\")\n",
        "for row in rows:\n",
        "    print(row)"
      ],
      "metadata": {
        "colab": {
          "base_uri": "https://localhost:8080/"
        },
        "id": "kvMUHAIoEqXB",
        "outputId": "d122246b-0a89-4eb2-a1de-8b2b0e0e4b1f"
      },
      "id": "kvMUHAIoEqXB",
      "execution_count": 7,
      "outputs": [
        {
          "output_type": "stream",
          "name": "stdout",
          "text": [
            "All villains and plan data:\n",
            "('Green Goblin', 'Terrorize New York')\n",
            "('Thanos', 'Collect all Infinity Stones')\n",
            "('Joker', 'Spread chaos in Gotham')\n",
            "('Lex Luthor', 'Defeat Superman')\n",
            "('Loki', 'Trick humanity into worshiping him')\n",
            "('Ultron', 'AI world domination')\n",
            "('Darkseid', 'Control the universe')\n",
            "('Venom', 'Consume Spider-Man')\n",
            "('Magneto', 'Mutant supremacy')\n",
            "('Red Skull', 'Revive Hydra')\n"
          ]
        }
      ]
    },
    {
      "cell_type": "code",
      "source": [
        "cursor.execute(\"\"\"\n",
        "SELECT heroes.name, COUNT(battles.id) AS battle_count\n",
        "FROM battles\n",
        "JOIN heroes ON battles.hero_id = heroes.id\n",
        "GROUP BY heroes.name\n",
        "ORDER BY battle_count DESC\n",
        "LIMIT 1;\n",
        "\"\"\")\n",
        "row = cursor.fetchall()\n",
        "\n",
        "print(\"All villains and plan data:\")\n",
        "print(row)"
      ],
      "metadata": {
        "colab": {
          "base_uri": "https://localhost:8080/"
        },
        "id": "6VhRGQ69Ey4G",
        "outputId": "1381c094-c3be-4265-bdb2-bba30c2cd068"
      },
      "id": "6VhRGQ69Ey4G",
      "execution_count": 8,
      "outputs": [
        {
          "output_type": "stream",
          "name": "stdout",
          "text": [
            "All villains and plan data:\n",
            "[('Batman', 7)]\n"
          ]
        }
      ]
    },
    {
      "cell_type": "markdown",
      "id": "de8bda94",
      "metadata": {
        "id": "de8bda94"
      },
      "source": [
        "## Step 4: Add a Custom Feature\n",
        "\n",
        "### Tasks:\n",
        "1. Design and implement an additional table related to superheroes or villains.\n",
        "2. Populate it with data.\n",
        "3. Write at least one query to retrieve meaningful insights from the new table.\n",
        "\n",
        "**Examples of Custom Features:**\n",
        "- Sidekicks for superheroes\n",
        "- Villain hideouts\n",
        "- Battle locations\n",
        "- Superhero equipment\n",
        "\n",
        "✅ **Checkpoint:** Ensure that the new table and queries function correctly."
      ]
    },
    {
      "cell_type": "code",
      "source": [
        "new_tab = \"\"\"\n",
        "DROP TABLE IF EXISTS sidekick;\n",
        "\n",
        "CREATE TABLE sidekick (\n",
        "  id INTEGER PRIMARY KEY AUTOINCREMENT,\n",
        "  name VARCHAR(50) NOT NULL,\n",
        "  power VARCHAR(50),\n",
        "  hero_id INTEGER\n",
        ");\n",
        "\n",
        "\"\"\"\n",
        "cursor.executescript(new_tab)\n",
        "\n",
        "sidekicks_data = [\n",
        "    (1, \"Robin\", \"Acrobatics\", 3),\n",
        "    (2, \"Bucky Barnes\", \"Super Soldier\", 2),\n",
        "    (3, \"War Machine\", \"Powered Armor\", 2),\n",
        "    (4, \"Supergirl\", \"Super Strength\", 4),\n",
        "    (5, \"Falcon\", \"Flight\", 2),\n",
        "]\n",
        "\n",
        "\n",
        "cursor.executemany('''\n",
        "INSERT INTO sidekick (id, name, power, hero_id) VALUES (?, ?, ?, ?)\n",
        "''', sidekicks_data)\n",
        "\n",
        "conn.commit()\n"
      ],
      "metadata": {
        "id": "6YLta--EHYnx"
      },
      "id": "6YLta--EHYnx",
      "execution_count": 11,
      "outputs": []
    },
    {
      "cell_type": "markdown",
      "id": "9bf43fe6",
      "metadata": {
        "id": "9bf43fe6"
      },
      "source": [
        "## Bonus Challenge (+5 Points)\n",
        "\n",
        "### Tasks:\n",
        "1. Enhance your project by adding a visual or interactive component.\n",
        "\n",
        "**Options:**\n",
        "- Visualize battles using Matplotlib (e.g., a bar chart showing how many battles each superhero has fought).\n",
        "- Make it interactive (e.g., allow users to input a superhero name and display their battles).\n",
        "\n",
        "✅ **Checkpoint:** If attempting the bonus, ensure that your visualization or interactive component works correctly."
      ]
    },
    {
      "cell_type": "code",
      "source": [
        "import matplotlib.pyplot as plt\n",
        "\n",
        "statement = \"\"\"\n",
        "SELECT heroes.name, COUNT(battles.id) AS battle_count\n",
        "FROM battles\n",
        "JOIN heroes ON battles.hero_id = heroes.id\n",
        "GROUP BY heroes.name\n",
        "ORDER BY battle_count DESC\n",
        "\"\"\"\n",
        "\n",
        "cursor.execute(statement)\n",
        "\n",
        "rows = cursor.fetchall()\n",
        "\n",
        "print(rows)\n",
        "name = []\n",
        "battles = []\n",
        "\n",
        "for i in range(len(rows)):\n",
        "  name.append(rows[i][0])\n",
        "  battles.append(rows[i][1])\n",
        "\n",
        "plt.figure(figsize=(15, 6))\n",
        "plt.bar(name,battles)\n",
        "plt.xlabel(\"Superheroes\")\n",
        "plt.ylabel(\"Number of Battles\")\n",
        "plt.title(\"Number of Battles Fought by Each Superhero\")\n",
        "plt.show()\n"
      ],
      "metadata": {
        "colab": {
          "base_uri": "https://localhost:8080/",
          "height": 581
        },
        "id": "TVSZeQWhJ7gy",
        "outputId": "605e5af6-07b3-4b0f-e249-195f1d998b2d"
      },
      "id": "TVSZeQWhJ7gy",
      "execution_count": 18,
      "outputs": [
        {
          "output_type": "stream",
          "name": "stdout",
          "text": [
            "[('Batman', 7), ('The Flash', 6), ('Spider-Man', 4), ('Iron Man', 3), ('Wonder Woman', 2), ('Thor', 2), ('Superman', 2), ('Hulk', 2), ('Doctor Strange', 1), ('Black Panther', 1)]\n"
          ]
        },
        {
          "output_type": "display_data",
          "data": {
            "text/plain": [
              "<Figure size 1500x600 with 1 Axes>"
            ],
            "image/png": "[encoded data removed]"
          },
          "metadata": {}
        }
      ]
    },
    {
      "cell_type": "markdown",
      "id": "89f56c05",
      "metadata": {
        "id": "89f56c05"
      },
      "source": [
        "## Submission Guidelines\n",
        "\n",
        "Each group must submit a **Google Colab Notebook (.ipynb)** containing:\n",
        "- ✅ **Database schema (DDL)**\n",
        "- ✅ **CSV imports & data insertion (DML)**\n",
        "- ✅ **SQL queries & results**\n",
        "- ✅ **Custom feature (bonus if applicable)**"
      ]
    },
    {
      "cell_type": "markdown",
      "id": "61477c9b",
      "metadata": {
        "id": "61477c9b"
      },
      "source": [
        "## Grading Criteria (Total: 25 Points)\n",
        "\n",
        "| Section                 | Points |\n",
        "|-------------------------|--------|\n",
        "| Database Setup          | 5      |\n",
        "| Data Importing         | 10     |\n",
        "| Querying the Data      | 10     |\n",
        "| Extra Feature          | 5      |\n",
        "| Bonus Challenge (Optional) | +5  |"
      ]
    },
    {
      "cell_type": "markdown",
      "id": "92bf6839",
      "metadata": {
        "id": "92bf6839"
      },
      "source": [
        "### Final Notes:\n",
        "- Be **creative** when designing superheroes and villains.\n",
        "- **Comment your code** to explain its functionality.\n",
        "- **Have fun** building your superhero universe!"
      ]
    }
  ],
  "metadata": {
    "colab": {
      "provenance": [],
      "gpuType": "T4"
    },
    "accelerator": "GPU",
    "language_info": {
      "name": "python"
    },
    "kernelspec": {
      "name": "python3",
      "display_name": "Python 3"
    }
  },
  "nbformat": 4,
  "nbformat_minor": 5
}